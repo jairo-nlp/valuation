{
 "cells": [
  {
   "cell_type": "code",
   "execution_count": 300,
   "metadata": {},
   "outputs": [],
   "source": [
    "from requests import get\n",
    "import json\n",
    "import pandas as pd\n",
    "from collections import Counter\n",
    "import matplotlib.pyplot as plt\n",
    "import seaborn as sns"
   ]
  },
  {
   "cell_type": "code",
   "execution_count": 2,
   "metadata": {},
   "outputs": [],
   "source": [
    "bearer_token = 'AAAAAAAAAAAAAAAAAAAAADjHJAEAAAAArc7yUgutuObq5ejL7MtU5kdfi0Y%3DnYSK0aX1moZSCGPNo9JpJJdUyZMTKOwLCn7VPIOAOmA1dMSOyt'"
   ]
  },
  {
   "cell_type": "code",
   "execution_count": 11,
   "metadata": {},
   "outputs": [],
   "source": [
    "def le_tweet(url, token):\n",
    "    header = {\n",
    "        \"Authorization\": \"Bearer {}\".format(bearer_token),\n",
    "        \"Content-Type\": \"application/json\",\n",
    "    }\n",
    "    r = get(url, headers=header)\n",
    "    return json.loads(r.text)"
   ]
  },
  {
   "cell_type": "markdown",
   "metadata": {},
   "source": [
    "#### Busca um _tweet_ pelo _id_"
   ]
  },
  {
   "cell_type": "code",
   "execution_count": 38,
   "metadata": {},
   "outputs": [],
   "source": [
    "url = \"https://api.twitter.com/2/tweets/20?expansions=author_id\""
   ]
  },
  {
   "cell_type": "code",
   "execution_count": 40,
   "metadata": {},
   "outputs": [
    {
     "data": {
      "text/html": [
       "<div>\n",
       "<style scoped>\n",
       "    .dataframe tbody tr th:only-of-type {\n",
       "        vertical-align: middle;\n",
       "    }\n",
       "\n",
       "    .dataframe tbody tr th {\n",
       "        vertical-align: top;\n",
       "    }\n",
       "\n",
       "    .dataframe thead th {\n",
       "        text-align: right;\n",
       "    }\n",
       "</style>\n",
       "<table border=\"1\" class=\"dataframe\">\n",
       "  <thead>\n",
       "    <tr style=\"text-align: right;\">\n",
       "      <th></th>\n",
       "      <th>data</th>\n",
       "      <th>includes</th>\n",
       "    </tr>\n",
       "  </thead>\n",
       "  <tbody>\n",
       "    <tr>\n",
       "      <th>author_id</th>\n",
       "      <td>12</td>\n",
       "      <td>NaN</td>\n",
       "    </tr>\n",
       "    <tr>\n",
       "      <th>id</th>\n",
       "      <td>20</td>\n",
       "      <td>NaN</td>\n",
       "    </tr>\n",
       "    <tr>\n",
       "      <th>text</th>\n",
       "      <td>just setting up my twttr</td>\n",
       "      <td>NaN</td>\n",
       "    </tr>\n",
       "    <tr>\n",
       "      <th>users</th>\n",
       "      <td>NaN</td>\n",
       "      <td>[{'id': '12', 'name': 'jack', 'username': 'jac...</td>\n",
       "    </tr>\n",
       "  </tbody>\n",
       "</table>\n",
       "</div>"
      ],
      "text/plain": [
       "                               data  \\\n",
       "author_id                        12   \n",
       "id                               20   \n",
       "text       just setting up my twttr   \n",
       "users                           NaN   \n",
       "\n",
       "                                                    includes  \n",
       "author_id                                                NaN  \n",
       "id                                                       NaN  \n",
       "text                                                     NaN  \n",
       "users      [{'id': '12', 'name': 'jack', 'username': 'jac...  "
      ]
     },
     "execution_count": 40,
     "metadata": {},
     "output_type": "execute_result"
    }
   ],
   "source": [
    "resposta = le_tweet(url, token=bearer_token)\n",
    "pd.DataFrame(resposta)"
   ]
  },
  {
   "cell_type": "markdown",
   "metadata": {},
   "source": [
    "#### Busca _Username_"
   ]
  },
  {
   "cell_type": "code",
   "execution_count": 44,
   "metadata": {},
   "outputs": [],
   "source": [
    "url = 'https://api.twitter.com/2/users/by?usernames=eng_gusta'"
   ]
  },
  {
   "cell_type": "code",
   "execution_count": 45,
   "metadata": {},
   "outputs": [],
   "source": [
    "resposta = le_tweet(url, token=bearer_token)"
   ]
  },
  {
   "cell_type": "code",
   "execution_count": 46,
   "metadata": {},
   "outputs": [
    {
     "data": {
      "text/html": [
       "<div>\n",
       "<style scoped>\n",
       "    .dataframe tbody tr th:only-of-type {\n",
       "        vertical-align: middle;\n",
       "    }\n",
       "\n",
       "    .dataframe tbody tr th {\n",
       "        vertical-align: top;\n",
       "    }\n",
       "\n",
       "    .dataframe thead th {\n",
       "        text-align: right;\n",
       "    }\n",
       "</style>\n",
       "<table border=\"1\" class=\"dataframe\">\n",
       "  <thead>\n",
       "    <tr style=\"text-align: right;\">\n",
       "      <th></th>\n",
       "      <th>id</th>\n",
       "      <th>name</th>\n",
       "      <th>username</th>\n",
       "    </tr>\n",
       "  </thead>\n",
       "  <tbody>\n",
       "    <tr>\n",
       "      <th>0</th>\n",
       "      <td>924646342743482368</td>\n",
       "      <td>Gustavo Cavalcanti</td>\n",
       "      <td>eng_gusta</td>\n",
       "    </tr>\n",
       "  </tbody>\n",
       "</table>\n",
       "</div>"
      ],
      "text/plain": [
       "                   id                name   username\n",
       "0  924646342743482368  Gustavo Cavalcanti  eng_gusta"
      ]
     },
     "execution_count": 46,
     "metadata": {},
     "output_type": "execute_result"
    }
   ],
   "source": [
    "pd.DataFrame(resposta['data'])"
   ]
  },
  {
   "cell_type": "markdown",
   "metadata": {},
   "source": [
    "#### Busca um conteúdo recente"
   ]
  },
  {
   "cell_type": "code",
   "execution_count": 370,
   "metadata": {},
   "outputs": [],
   "source": [
    "handle = 'ElonMusk'\n",
    "num_tweets = 50"
   ]
  },
  {
   "cell_type": "code",
   "execution_count": 371,
   "metadata": {},
   "outputs": [],
   "source": [
    "url = f'https://api.twitter.com/2/tweets/search/recent?query=from:{handle}&tweet.fields=created_at&expansions=author_id&user.fields=created_at&max_results={num_tweets}'"
   ]
  },
  {
   "cell_type": "code",
   "execution_count": 372,
   "metadata": {},
   "outputs": [],
   "source": [
    "resposta = le_tweet(url, token=bearer_token)"
   ]
  },
  {
   "cell_type": "code",
   "execution_count": 373,
   "metadata": {},
   "outputs": [
    {
     "data": {
      "text/html": [
       "<div>\n",
       "<style scoped>\n",
       "    .dataframe tbody tr th:only-of-type {\n",
       "        vertical-align: middle;\n",
       "    }\n",
       "\n",
       "    .dataframe tbody tr th {\n",
       "        vertical-align: top;\n",
       "    }\n",
       "\n",
       "    .dataframe thead th {\n",
       "        text-align: right;\n",
       "    }\n",
       "</style>\n",
       "<table border=\"1\" class=\"dataframe\">\n",
       "  <thead>\n",
       "    <tr style=\"text-align: right;\">\n",
       "      <th></th>\n",
       "      <th>created_at</th>\n",
       "      <th>id</th>\n",
       "      <th>text</th>\n",
       "      <th>author_id</th>\n",
       "    </tr>\n",
       "  </thead>\n",
       "  <tbody>\n",
       "    <tr>\n",
       "      <th>0</th>\n",
       "      <td>2020-10-28T00:19:44.000Z</td>\n",
       "      <td>1321245225755512832</td>\n",
       "      <td>@TheWPMontgomery @pcgamer One of the best game...</td>\n",
       "      <td>44196397</td>\n",
       "    </tr>\n",
       "    <tr>\n",
       "      <th>1</th>\n",
       "      <td>2020-10-28T00:18:06.000Z</td>\n",
       "      <td>1321244816378834946</td>\n",
       "      <td>@ThatDudeShannon @pcgamer FEAR 1 with modern g...</td>\n",
       "      <td>44196397</td>\n",
       "    </tr>\n",
       "    <tr>\n",
       "      <th>2</th>\n",
       "      <td>2020-10-28T00:16:43.000Z</td>\n",
       "      <td>1321244469325406208</td>\n",
       "      <td>@1matthewgarcia @pcgamer Ok :)</td>\n",
       "      <td>44196397</td>\n",
       "    </tr>\n",
       "    <tr>\n",
       "      <th>3</th>\n",
       "      <td>2020-10-28T00:09:03.000Z</td>\n",
       "      <td>1321242538427273217</td>\n",
       "      <td>@ZZCOOL @pcgamer All games in this thread are ...</td>\n",
       "      <td>44196397</td>\n",
       "    </tr>\n",
       "    <tr>\n",
       "      <th>4</th>\n",
       "      <td>2020-10-28T00:05:57.000Z</td>\n",
       "      <td>1321241757179326466</td>\n",
       "      <td>@pcgamer FEAR 2 is best imo. Also Dead Space 2...</td>\n",
       "      <td>44196397</td>\n",
       "    </tr>\n",
       "    <tr>\n",
       "      <th>5</th>\n",
       "      <td>2020-10-27T23:39:31.000Z</td>\n",
       "      <td>1321235107324268544</td>\n",
       "      <td>@rakyll https://t.co/p1aGokwQpV</td>\n",
       "      <td>44196397</td>\n",
       "    </tr>\n",
       "    <tr>\n",
       "      <th>6</th>\n",
       "      <td>2020-10-27T22:50:08.000Z</td>\n",
       "      <td>1321222678393610240</td>\n",
       "      <td>@jgrano305 @flcnhvy To the best of my knowledg...</td>\n",
       "      <td>44196397</td>\n",
       "    </tr>\n",
       "    <tr>\n",
       "      <th>7</th>\n",
       "      <td>2020-10-27T22:43:55.000Z</td>\n",
       "      <td>1321221115096801282</td>\n",
       "      <td>@flcnhvy All that was left were broken bots &amp;a...</td>\n",
       "      <td>44196397</td>\n",
       "    </tr>\n",
       "    <tr>\n",
       "      <th>8</th>\n",
       "      <td>2020-10-27T22:38:11.000Z</td>\n",
       "      <td>1321219671174094851</td>\n",
       "      <td>@flcnhvy And there were actually zero employee...</td>\n",
       "      <td>44196397</td>\n",
       "    </tr>\n",
       "    <tr>\n",
       "      <th>9</th>\n",
       "      <td>2020-10-27T22:33:21.000Z</td>\n",
       "      <td>1321218455337578498</td>\n",
       "      <td>@ajtourville Bettern nothin or ur 💰 back!</td>\n",
       "      <td>44196397</td>\n",
       "    </tr>\n",
       "    <tr>\n",
       "      <th>10</th>\n",
       "      <td>2020-10-27T07:03:44.000Z</td>\n",
       "      <td>1320984510004137984</td>\n",
       "      <td>@WholeMarsBlog 💫 🛰</td>\n",
       "      <td>44196397</td>\n",
       "    </tr>\n",
       "    <tr>\n",
       "      <th>11</th>\n",
       "      <td>2020-10-27T03:06:30.000Z</td>\n",
       "      <td>1320924807232253954</td>\n",
       "      <td>@HyperChangeTV Tesla team has done great work!</td>\n",
       "      <td>44196397</td>\n",
       "    </tr>\n",
       "    <tr>\n",
       "      <th>12</th>\n",
       "      <td>2020-10-26T23:19:16.000Z</td>\n",
       "      <td>1320867624943714304</td>\n",
       "      <td>@HyperChangeTV Well, tbh, our capex efficiency...</td>\n",
       "      <td>44196397</td>\n",
       "    </tr>\n",
       "    <tr>\n",
       "      <th>13</th>\n",
       "      <td>2020-10-26T04:13:50.000Z</td>\n",
       "      <td>1320579366724784130</td>\n",
       "      <td>@westcoastbill Testing for covid is a license ...</td>\n",
       "      <td>44196397</td>\n",
       "    </tr>\n",
       "    <tr>\n",
       "      <th>14</th>\n",
       "      <td>2020-10-25T23:39:41.000Z</td>\n",
       "      <td>1320510372210569218</td>\n",
       "      <td>@arctechinc @Tesla Yes, very helpful. Thanks a...</td>\n",
       "      <td>44196397</td>\n",
       "    </tr>\n",
       "  </tbody>\n",
       "</table>\n",
       "</div>"
      ],
      "text/plain": [
       "                  created_at                   id  \\\n",
       "0   2020-10-28T00:19:44.000Z  1321245225755512832   \n",
       "1   2020-10-28T00:18:06.000Z  1321244816378834946   \n",
       "2   2020-10-28T00:16:43.000Z  1321244469325406208   \n",
       "3   2020-10-28T00:09:03.000Z  1321242538427273217   \n",
       "4   2020-10-28T00:05:57.000Z  1321241757179326466   \n",
       "5   2020-10-27T23:39:31.000Z  1321235107324268544   \n",
       "6   2020-10-27T22:50:08.000Z  1321222678393610240   \n",
       "7   2020-10-27T22:43:55.000Z  1321221115096801282   \n",
       "8   2020-10-27T22:38:11.000Z  1321219671174094851   \n",
       "9   2020-10-27T22:33:21.000Z  1321218455337578498   \n",
       "10  2020-10-27T07:03:44.000Z  1320984510004137984   \n",
       "11  2020-10-27T03:06:30.000Z  1320924807232253954   \n",
       "12  2020-10-26T23:19:16.000Z  1320867624943714304   \n",
       "13  2020-10-26T04:13:50.000Z  1320579366724784130   \n",
       "14  2020-10-25T23:39:41.000Z  1320510372210569218   \n",
       "\n",
       "                                                 text author_id  \n",
       "0   @TheWPMontgomery @pcgamer One of the best game...  44196397  \n",
       "1   @ThatDudeShannon @pcgamer FEAR 1 with modern g...  44196397  \n",
       "2                      @1matthewgarcia @pcgamer Ok :)  44196397  \n",
       "3   @ZZCOOL @pcgamer All games in this thread are ...  44196397  \n",
       "4   @pcgamer FEAR 2 is best imo. Also Dead Space 2...  44196397  \n",
       "5                     @rakyll https://t.co/p1aGokwQpV  44196397  \n",
       "6   @jgrano305 @flcnhvy To the best of my knowledg...  44196397  \n",
       "7   @flcnhvy All that was left were broken bots &a...  44196397  \n",
       "8   @flcnhvy And there were actually zero employee...  44196397  \n",
       "9           @ajtourville Bettern nothin or ur 💰 back!  44196397  \n",
       "10                                 @WholeMarsBlog 💫 🛰  44196397  \n",
       "11     @HyperChangeTV Tesla team has done great work!  44196397  \n",
       "12  @HyperChangeTV Well, tbh, our capex efficiency...  44196397  \n",
       "13  @westcoastbill Testing for covid is a license ...  44196397  \n",
       "14  @arctechinc @Tesla Yes, very helpful. Thanks a...  44196397  "
      ]
     },
     "execution_count": 373,
     "metadata": {},
     "output_type": "execute_result"
    }
   ],
   "source": [
    "pd.DataFrame(resposta['data']).head(15)"
   ]
  },
  {
   "cell_type": "code",
   "execution_count": 374,
   "metadata": {},
   "outputs": [],
   "source": [
    "lista_palavras = []\n",
    "for tw in pd.DataFrame(resposta['data'])['text']:\n",
    "    palavras_do_tweet = tw.split()\n",
    "    lista_palavras.extend(palavras_do_tweet)"
   ]
  },
  {
   "cell_type": "code",
   "execution_count": 375,
   "metadata": {},
   "outputs": [
    {
     "data": {
      "text/html": [
       "<div>\n",
       "<style scoped>\n",
       "    .dataframe tbody tr th:only-of-type {\n",
       "        vertical-align: middle;\n",
       "    }\n",
       "\n",
       "    .dataframe tbody tr th {\n",
       "        vertical-align: top;\n",
       "    }\n",
       "\n",
       "    .dataframe thead th {\n",
       "        text-align: right;\n",
       "    }\n",
       "</style>\n",
       "<table border=\"1\" class=\"dataframe\">\n",
       "  <thead>\n",
       "    <tr style=\"text-align: right;\">\n",
       "      <th></th>\n",
       "      <th>Número de Ocorrências</th>\n",
       "    </tr>\n",
       "  </thead>\n",
       "  <tbody>\n",
       "    <tr>\n",
       "      <th>to</th>\n",
       "      <td>15</td>\n",
       "    </tr>\n",
       "    <tr>\n",
       "      <th>a</th>\n",
       "      <td>15</td>\n",
       "    </tr>\n",
       "    <tr>\n",
       "      <th>of</th>\n",
       "      <td>12</td>\n",
       "    </tr>\n",
       "    <tr>\n",
       "      <th>the</th>\n",
       "      <td>12</td>\n",
       "    </tr>\n",
       "    <tr>\n",
       "      <th>&amp;amp;</th>\n",
       "      <td>12</td>\n",
       "    </tr>\n",
       "    <tr>\n",
       "      <th>...</th>\n",
       "      <td>...</td>\n",
       "    </tr>\n",
       "    <tr>\n",
       "      <th>gets</th>\n",
       "      <td>1</td>\n",
       "    </tr>\n",
       "    <tr>\n",
       "      <th>orbit</th>\n",
       "      <td>1</td>\n",
       "    </tr>\n",
       "    <tr>\n",
       "      <th>Got</th>\n",
       "      <td>1</td>\n",
       "    </tr>\n",
       "    <tr>\n",
       "      <th>little</th>\n",
       "      <td>1</td>\n",
       "    </tr>\n",
       "    <tr>\n",
       "      <th>everything</th>\n",
       "      <td>1</td>\n",
       "    </tr>\n",
       "  </tbody>\n",
       "</table>\n",
       "<p>457 rows × 1 columns</p>\n",
       "</div>"
      ],
      "text/plain": [
       "            Número de Ocorrências\n",
       "to                             15\n",
       "a                              15\n",
       "of                             12\n",
       "the                            12\n",
       "&amp;                          12\n",
       "...                           ...\n",
       "gets                            1\n",
       "orbit                           1\n",
       "Got                             1\n",
       "little                          1\n",
       "everything                      1\n",
       "\n",
       "[457 rows x 1 columns]"
      ]
     },
     "execution_count": 375,
     "metadata": {},
     "output_type": "execute_result"
    }
   ],
   "source": [
    "contagem = Counter(lista_palavras)\n",
    "df = pd.DataFrame.from_dict(contagem, orient='index', columns=['Número de Ocorrências']).sort_values(by='Número de Ocorrências')\n",
    "df.sort_values(by='Número de Ocorrências', ascending=False)"
   ]
  },
  {
   "cell_type": "code",
   "execution_count": 376,
   "metadata": {},
   "outputs": [],
   "source": [
    "sns.set_style(\"darkgrid\")"
   ]
  },
  {
   "cell_type": "code",
   "execution_count": 377,
   "metadata": {},
   "outputs": [
    {
     "data": {
      "image/png": "[encoded data removed]",
      "text/plain": [
       "<Figure size 1080x360 with 2 Axes>"
      ]
     },
     "metadata": {},
     "output_type": "display_data"
    }
   ],
   "source": [
    "compr_minimo = df.index.str.len() > 3\n",
    "ocor_minimas = df['Número de Ocorrências'] > 2\n",
    "sem_mencoes, com_mencoes = ~df.index.str.contains('@'), df.index.str.contains('@')\n",
    "\n",
    "fig, axs = plt.subplots(1, 2, figsize=(15, 5))\n",
    "try:\n",
    "    df[compr_minimo & ocor_minimas & sem_mencoes].plot.barh(\n",
    "    title=f'Palavras mais usadas pelo \"{handle}\" (útlimos {num_tweets} tweets)', ax=axs[0])\n",
    "except:\n",
    "    pass\n",
    "try:\n",
    "    df[com_mencoes].sort_values(by='Número de Ocorrências')[-10:].plot.barh(\n",
    "    title=f'Pessoas mais mencionadas pelo \"{handle}\" (útlimos {num_tweets} tweets)', ax=axs[1])\n",
    "except:\n",
    "    pass\n",
    "plt.tight_layout(pad=3.0)\n",
    "plt.show()"
   ]
  },
  {
   "cell_type": "code",
   "execution_count": null,
   "metadata": {},
   "outputs": [],
   "source": []
  }
 ],
 "metadata": {
  "kernelspec": {
   "display_name": "Python 3",
   "language": "python",
   "name": "python3"
  },
  "language_info": {
   "codemirror_mode": {
    "name": "ipython",
    "version": 3
   },
   "file_extension": ".py",
   "mimetype": "text/x-python",
   "name": "python",
   "nbconvert_exporter": "python",
   "pygments_lexer": "ipython3",
   "version": "3.6.4"
  }
 },
 "nbformat": 4,
 "nbformat_minor": 2
}
