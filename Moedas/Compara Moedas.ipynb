{
 "cells": [
  {
   "cell_type": "code",
   "execution_count": 414,
   "metadata": {},
   "outputs": [],
   "source": [
    "from pandas_datareader import DataReader\n",
    "from datetime import date, datetime\n",
    "import pandas as pd\n",
    "import matplotlib.pyplot as plt\n",
    "import numpy as np\n",
    "import matplotlib.cm as cm"
   ]
  },
  {
   "cell_type": "code",
   "execution_count": 415,
   "metadata": {},
   "outputs": [],
   "source": [
    "dic_moedas = {\n",
    "    'Dólar Australiano': 'AUD=X',\n",
    "    'Real': 'BRL=X',\n",
    "    'Euro': 'EUR=X',\n",
    "    'Peso (México)': 'MXN=X',\n",
    "    'Peso (Argentina)': 'ARS=X',\n",
    "    'Peso (Chile)': 'CLP=X',\n",
    "    'Rublo (Rússia)': 'RUB=X',\n",
    "    'Yuan (China)': 'CNY=X',\n",
    "    'Iene (Japão)': 'JPY=X',\n",
    "    'Libra (UK)': 'GBP=X',\n",
    "    'Rand (Afr. Sul)': 'ZAR=X',\n",
    "    'Rúpia (Índia)': 'INR=X',\n",
    "    'Sol (Peru)': 'PEN=X',\n",
    "    'Krone (Noruega)': 'NOK=X',\n",
    "    'Guarany (Paraguai)': 'PYG=X',\n",
    "    'Bitcoin': 'BTC=X'\n",
    "}"
   ]
  },
  {
   "cell_type": "code",
   "execution_count": 416,
   "metadata": {},
   "outputs": [],
   "source": [
    "def obtem_cotacao_moeda(nome_moeda, cod_moeda, fonte, ini, fim):\n",
    "    df = DataReader(cod_moeda, data_source, start, end, )\n",
    "    return df[['Adj Close']].rename(columns={'Adj Close': nome_moeda})"
   ]
  },
  {
   "cell_type": "code",
   "execution_count": 417,
   "metadata": {},
   "outputs": [],
   "source": [
    "data_source = 'yahoo'\n",
    "start = date(2014, 1, 1)\n",
    "end = date(2020, 8, 7)"
   ]
  },
  {
   "cell_type": "code",
   "execution_count": 418,
   "metadata": {},
   "outputs": [],
   "source": [
    "dfs = {}\n",
    "for nome_moeda, cod_moeda in dic_moedas.items():\n",
    "    dfs[nome_moeda] = obtem_cotacao_moeda(\n",
    "        nome_moeda, cod_moeda, data_source, start, end\n",
    "    )"
   ]
  },
  {
   "cell_type": "code",
   "execution_count": 419,
   "metadata": {},
   "outputs": [],
   "source": [
    "def agrupa_dfs(dfs):\n",
    "    df_unico = pd.concat(dfs.values(), axis='columns')\n",
    "    return df_unico"
   ]
  },
  {
   "cell_type": "code",
   "execution_count": 420,
   "metadata": {},
   "outputs": [],
   "source": [
    "dfa = agrupa_dfs(dfs)"
   ]
  },
  {
   "cell_type": "code",
   "execution_count": 421,
   "metadata": {},
   "outputs": [],
   "source": [
    "cores = ['red', 'coral'] + ['blue' for _ in range(len(dic_moedas) - 2)]\n",
    "str_datas = f'{start.strftime(\"%m/%y\")} - {end.strftime(\"%m/%y\")}'"
   ]
  },
  {
   "cell_type": "code",
   "execution_count": 423,
   "metadata": {},
   "outputs": [
    {
     "data": {
      "image/png": "[encoded data removed]",
      "text/plain": [
       "<matplotlib.figure.Figure at 0x203bd4e8e80>"
      ]
     },
     "metadata": {},
     "output_type": "display_data"
    }
   ],
   "source": [
    "(dfa.iloc[0] / dfa.iloc[-1]).sort_values()[:-1].plot.barh(title=f'Real vs Outras moedas ({str_datas})', color=cores)\n",
    "plt.show()"
   ]
  },
  {
   "cell_type": "code",
   "execution_count": null,
   "metadata": {},
   "outputs": [],
   "source": []
  }
 ],
 "metadata": {
  "kernelspec": {
   "display_name": "Python 3",
   "language": "python",
   "name": "python3"
  },
  "language_info": {
   "codemirror_mode": {
    "name": "ipython",
    "version": 3
   },
   "file_extension": ".py",
   "mimetype": "text/x-python",
   "name": "python",
   "nbconvert_exporter": "python",
   "pygments_lexer": "ipython3",
   "version": "3.6.4"
  }
 },
 "nbformat": 4,
 "nbformat_minor": 2
}
