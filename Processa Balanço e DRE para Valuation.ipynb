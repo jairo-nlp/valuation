{
 "cells": [
  {
   "cell_type": "markdown",
   "metadata": {},
   "source": [
    "## Processa DRE e Balanço"
   ]
  },
  {
   "cell_type": "code",
   "execution_count": 213,
   "metadata": {},
   "outputs": [],
   "source": [
    "import importlib,valuation_lib\n",
    "importlib.reload(valuation_lib)\n",
    "import valuation_lib"
   ]
  },
  {
   "cell_type": "code",
   "execution_count": 214,
   "metadata": {
    "scrolled": false
   },
   "outputs": [
    {
     "data": {
      "text/html": [
       "<h2>Dados de Entrada - MELL3</h2>"
      ],
      "text/plain": [
       "<IPython.core.display.HTML object>"
      ]
     },
     "metadata": {},
     "output_type": "display_data"
    },
    {
     "data": {
      "text/html": [
       "<h3>DRE</h3>"
      ],
      "text/plain": [
       "<IPython.core.display.HTML object>"
      ]
     },
     "metadata": {},
     "output_type": "display_data"
    },
    {
     "data": {
      "text/html": [
       "<div>\n",
       "<style scoped>\n",
       "    .dataframe tbody tr th:only-of-type {\n",
       "        vertical-align: middle;\n",
       "    }\n",
       "\n",
       "    .dataframe tbody tr th {\n",
       "        vertical-align: top;\n",
       "    }\n",
       "\n",
       "    .dataframe thead tr th {\n",
       "        text-align: left;\n",
       "    }\n",
       "</style>\n",
       "<table border=\"1\" class=\"dataframe\">\n",
       "  <thead>\n",
       "    <tr>\n",
       "      <th></th>\n",
       "      <th>Realizado</th>\n",
       "      <th colspan=\"3\" halign=\"left\">Projetado</th>\n",
       "    </tr>\n",
       "    <tr>\n",
       "      <th></th>\n",
       "      <th>Ano 0</th>\n",
       "      <th>Ano 1</th>\n",
       "      <th>Ano 2</th>\n",
       "      <th>Ano 3</th>\n",
       "    </tr>\n",
       "  </thead>\n",
       "  <tbody>\n",
       "    <tr>\n",
       "      <th>Receita líquida</th>\n",
       "      <td>7500.0</td>\n",
       "      <td>8170.0</td>\n",
       "      <td>8550.0</td>\n",
       "      <td>8810.0</td>\n",
       "    </tr>\n",
       "    <tr>\n",
       "      <th>(-) CPV</th>\n",
       "      <td>4500.0</td>\n",
       "      <td>5150.0</td>\n",
       "      <td>5130.0</td>\n",
       "      <td>5110.0</td>\n",
       "    </tr>\n",
       "    <tr>\n",
       "      <th>(-) Despesas Operacionais</th>\n",
       "      <td>1600.0</td>\n",
       "      <td>1450.0</td>\n",
       "      <td>1550.0</td>\n",
       "      <td>1600.0</td>\n",
       "    </tr>\n",
       "    <tr>\n",
       "      <th>(-) Depreciação</th>\n",
       "      <td>375.0</td>\n",
       "      <td>420.0</td>\n",
       "      <td>440.0</td>\n",
       "      <td>450.0</td>\n",
       "    </tr>\n",
       "    <tr>\n",
       "      <th>(=) Resultado Operacional</th>\n",
       "      <td>1025.0</td>\n",
       "      <td>1150.0</td>\n",
       "      <td>1430.0</td>\n",
       "      <td>1650.0</td>\n",
       "    </tr>\n",
       "    <tr>\n",
       "      <th>(-) Despesa Financeira Líquida</th>\n",
       "      <td>260.0</td>\n",
       "      <td>270.0</td>\n",
       "      <td>290.0</td>\n",
       "      <td>280.0</td>\n",
       "    </tr>\n",
       "    <tr>\n",
       "      <th>(=) Lucro Antes do IR</th>\n",
       "      <td>765.0</td>\n",
       "      <td>880.0</td>\n",
       "      <td>1140.0</td>\n",
       "      <td>1370.0</td>\n",
       "    </tr>\n",
       "    <tr>\n",
       "      <th>(-) IR</th>\n",
       "      <td>260.1</td>\n",
       "      <td>299.2</td>\n",
       "      <td>387.6</td>\n",
       "      <td>465.8</td>\n",
       "    </tr>\n",
       "    <tr>\n",
       "      <th>(=) Lucro Líquido</th>\n",
       "      <td>504.9</td>\n",
       "      <td>580.8</td>\n",
       "      <td>752.4</td>\n",
       "      <td>904.2</td>\n",
       "    </tr>\n",
       "  </tbody>\n",
       "</table>\n",
       "</div>"
      ],
      "text/plain": [
       "                               Realizado Projetado                \n",
       "                                   Ano 0     Ano 1   Ano 2   Ano 3\n",
       "Receita líquida                   7500.0    8170.0  8550.0  8810.0\n",
       "(-) CPV                           4500.0    5150.0  5130.0  5110.0\n",
       "(-) Despesas Operacionais         1600.0    1450.0  1550.0  1600.0\n",
       "(-) Depreciação                    375.0     420.0   440.0   450.0\n",
       "(=) Resultado Operacional         1025.0    1150.0  1430.0  1650.0\n",
       "(-) Despesa Financeira Líquida     260.0     270.0   290.0   280.0\n",
       "(=) Lucro Antes do IR              765.0     880.0  1140.0  1370.0\n",
       "(-) IR                             260.1     299.2   387.6   465.8\n",
       "(=) Lucro Líquido                  504.9     580.8   752.4   904.2"
      ]
     },
     "metadata": {},
     "output_type": "display_data"
    },
    {
     "data": {
      "text/html": [
       "<h3>Balanço</h3>"
      ],
      "text/plain": [
       "<IPython.core.display.HTML object>"
      ]
     },
     "metadata": {},
     "output_type": "display_data"
    },
    {
     "data": {
      "text/html": [
       "<div>\n",
       "<style scoped>\n",
       "    .dataframe tbody tr th:only-of-type {\n",
       "        vertical-align: middle;\n",
       "    }\n",
       "\n",
       "    .dataframe tbody tr th {\n",
       "        vertical-align: top;\n",
       "    }\n",
       "\n",
       "    .dataframe thead tr th {\n",
       "        text-align: left;\n",
       "    }\n",
       "</style>\n",
       "<table border=\"1\" class=\"dataframe\">\n",
       "  <thead>\n",
       "    <tr>\n",
       "      <th></th>\n",
       "      <th>Realizado</th>\n",
       "      <th colspan=\"3\" halign=\"left\">Projetado</th>\n",
       "    </tr>\n",
       "    <tr>\n",
       "      <th></th>\n",
       "      <th>Ano 0</th>\n",
       "      <th>Ano 1</th>\n",
       "      <th>Ano 2</th>\n",
       "      <th>Ano 3</th>\n",
       "    </tr>\n",
       "  </thead>\n",
       "  <tbody>\n",
       "    <tr>\n",
       "      <th>Caixa Operacional</th>\n",
       "      <td>540.0</td>\n",
       "      <td>640.0</td>\n",
       "      <td>720.0</td>\n",
       "      <td>840.0</td>\n",
       "    </tr>\n",
       "    <tr>\n",
       "      <th>Caixa Não Operacional</th>\n",
       "      <td>8725.0</td>\n",
       "      <td>100.0</td>\n",
       "      <td>600.0</td>\n",
       "      <td>900.0</td>\n",
       "    </tr>\n",
       "    <tr>\n",
       "      <th>Contas a Receber</th>\n",
       "      <td>640.0</td>\n",
       "      <td>700.0</td>\n",
       "      <td>750.0</td>\n",
       "      <td>730.0</td>\n",
       "    </tr>\n",
       "    <tr>\n",
       "      <th>Estoque</th>\n",
       "      <td>790.0</td>\n",
       "      <td>860.0</td>\n",
       "      <td>900.0</td>\n",
       "      <td>920.0</td>\n",
       "    </tr>\n",
       "    <tr>\n",
       "      <th>Ativo Operacional Fixo Líquido</th>\n",
       "      <td>7560.0</td>\n",
       "      <td>7860.0</td>\n",
       "      <td>8060.0</td>\n",
       "      <td>8060.0</td>\n",
       "    </tr>\n",
       "    <tr>\n",
       "      <th>Total do Ativo</th>\n",
       "      <td>18255.0</td>\n",
       "      <td>10160.0</td>\n",
       "      <td>11030.0</td>\n",
       "      <td>11450.0</td>\n",
       "    </tr>\n",
       "    <tr>\n",
       "      <th>Contas a Pagar</th>\n",
       "      <td>480.0</td>\n",
       "      <td>530.0</td>\n",
       "      <td>460.0</td>\n",
       "      <td>470.0</td>\n",
       "    </tr>\n",
       "    <tr>\n",
       "      <th>Salários e Encargos a Pagar</th>\n",
       "      <td>230.0</td>\n",
       "      <td>250.0</td>\n",
       "      <td>260.0</td>\n",
       "      <td>270.0</td>\n",
       "    </tr>\n",
       "    <tr>\n",
       "      <th>Impostos a pagar</th>\n",
       "      <td>0.0</td>\n",
       "      <td>0.0</td>\n",
       "      <td>0.0</td>\n",
       "      <td>0.0</td>\n",
       "    </tr>\n",
       "    <tr>\n",
       "      <th>Empréstimos e Financiamentos de CP</th>\n",
       "      <td>3250.0</td>\n",
       "      <td>3300.0</td>\n",
       "      <td>3580.0</td>\n",
       "      <td>3300.0</td>\n",
       "    </tr>\n",
       "    <tr>\n",
       "      <th>Empréstimos e Financiamentos de LP</th>\n",
       "      <td>0.0</td>\n",
       "      <td>0.0</td>\n",
       "      <td>0.0</td>\n",
       "      <td>0.0</td>\n",
       "    </tr>\n",
       "    <tr>\n",
       "      <th>Passivo</th>\n",
       "      <td>3960.0</td>\n",
       "      <td>4080.0</td>\n",
       "      <td>4300.0</td>\n",
       "      <td>4040.0</td>\n",
       "    </tr>\n",
       "    <tr>\n",
       "      <th>Patrimônio Líquido</th>\n",
       "      <td>14295.0</td>\n",
       "      <td>6080.0</td>\n",
       "      <td>6730.0</td>\n",
       "      <td>7410.0</td>\n",
       "    </tr>\n",
       "    <tr>\n",
       "      <th>Total do Passivo</th>\n",
       "      <td>18255.0</td>\n",
       "      <td>10160.0</td>\n",
       "      <td>11030.0</td>\n",
       "      <td>11450.0</td>\n",
       "    </tr>\n",
       "  </tbody>\n",
       "</table>\n",
       "</div>"
      ],
      "text/plain": [
       "                                   Realizado Projetado                  \n",
       "                                       Ano 0     Ano 1    Ano 2    Ano 3\n",
       "Caixa Operacional                      540.0     640.0    720.0    840.0\n",
       "Caixa Não Operacional                 8725.0     100.0    600.0    900.0\n",
       "Contas a Receber                       640.0     700.0    750.0    730.0\n",
       "Estoque                                790.0     860.0    900.0    920.0\n",
       "Ativo Operacional Fixo Líquido        7560.0    7860.0   8060.0   8060.0\n",
       "Total do Ativo                       18255.0   10160.0  11030.0  11450.0\n",
       "Contas a Pagar                         480.0     530.0    460.0    470.0\n",
       "Salários e Encargos a Pagar            230.0     250.0    260.0    270.0\n",
       "Impostos a pagar                         0.0       0.0      0.0      0.0\n",
       "Empréstimos e Financiamentos de CP    3250.0    3300.0   3580.0   3300.0\n",
       "Empréstimos e Financiamentos de LP       0.0       0.0      0.0      0.0\n",
       "Passivo                               3960.0    4080.0   4300.0   4040.0\n",
       "Patrimônio Líquido                   14295.0    6080.0   6730.0   7410.0\n",
       "Total do Passivo                     18255.0   10160.0  11030.0  11450.0"
      ]
     },
     "metadata": {},
     "output_type": "display_data"
    },
    {
     "data": {
      "text/html": [
       "<h3>Outros Parâmetros de Entrada</h3>"
      ],
      "text/plain": [
       "<IPython.core.display.HTML object>"
      ]
     },
     "metadata": {},
     "output_type": "display_data"
    },
    {
     "data": {
      "text/html": [
       "<div>\n",
       "<style scoped>\n",
       "    .dataframe tbody tr th:only-of-type {\n",
       "        vertical-align: middle;\n",
       "    }\n",
       "\n",
       "    .dataframe tbody tr th {\n",
       "        vertical-align: top;\n",
       "    }\n",
       "\n",
       "    .dataframe thead tr th {\n",
       "        text-align: left;\n",
       "    }\n",
       "</style>\n",
       "<table border=\"1\" class=\"dataframe\">\n",
       "  <thead>\n",
       "    <tr>\n",
       "      <th></th>\n",
       "      <th>Realizado</th>\n",
       "      <th colspan=\"3\" halign=\"left\">Projetado</th>\n",
       "    </tr>\n",
       "    <tr>\n",
       "      <th></th>\n",
       "      <th>Ano 0</th>\n",
       "      <th>Ano 1</th>\n",
       "      <th>Ano 2</th>\n",
       "      <th>Ano 3</th>\n",
       "    </tr>\n",
       "  </thead>\n",
       "  <tbody>\n",
       "    <tr>\n",
       "      <th>CAPEX</th>\n",
       "      <td>NaN</td>\n",
       "      <td>720.0</td>\n",
       "      <td>640.0</td>\n",
       "      <td>450.0</td>\n",
       "    </tr>\n",
       "    <tr>\n",
       "      <th>Ke Manual</th>\n",
       "      <td>-</td>\n",
       "      <td>NaN</td>\n",
       "      <td>NaN</td>\n",
       "      <td>NaN</td>\n",
       "    </tr>\n",
       "    <tr>\n",
       "      <th>Kd</th>\n",
       "      <td>0.1</td>\n",
       "      <td>NaN</td>\n",
       "      <td>NaN</td>\n",
       "      <td>NaN</td>\n",
       "    </tr>\n",
       "    <tr>\n",
       "      <th>G</th>\n",
       "      <td>0.03</td>\n",
       "      <td>NaN</td>\n",
       "      <td>NaN</td>\n",
       "      <td>NaN</td>\n",
       "    </tr>\n",
       "    <tr>\n",
       "      <th>Taxa de Desconto Manual</th>\n",
       "      <td>0.115</td>\n",
       "      <td>NaN</td>\n",
       "      <td>NaN</td>\n",
       "      <td>NaN</td>\n",
       "    </tr>\n",
       "    <tr>\n",
       "      <th>IR</th>\n",
       "      <td>0.34</td>\n",
       "      <td>NaN</td>\n",
       "      <td>NaN</td>\n",
       "      <td>NaN</td>\n",
       "    </tr>\n",
       "    <tr>\n",
       "      <th>Taxa Livre de Risco (Rf)</th>\n",
       "      <td>0.07</td>\n",
       "      <td>NaN</td>\n",
       "      <td>NaN</td>\n",
       "      <td>NaN</td>\n",
       "    </tr>\n",
       "    <tr>\n",
       "      <th>Prêmio de Risco (ERP)</th>\n",
       "      <td>0.05</td>\n",
       "      <td>NaN</td>\n",
       "      <td>NaN</td>\n",
       "      <td>NaN</td>\n",
       "    </tr>\n",
       "    <tr>\n",
       "      <th>Risco País</th>\n",
       "      <td>0.02</td>\n",
       "      <td>NaN</td>\n",
       "      <td>NaN</td>\n",
       "      <td>NaN</td>\n",
       "    </tr>\n",
       "    <tr>\n",
       "      <th>Número de Ações</th>\n",
       "      <td>200</td>\n",
       "      <td>NaN</td>\n",
       "      <td>NaN</td>\n",
       "      <td>NaN</td>\n",
       "    </tr>\n",
       "    <tr>\n",
       "      <th>Beta</th>\n",
       "      <td>1.3</td>\n",
       "      <td>NaN</td>\n",
       "      <td>NaN</td>\n",
       "      <td>NaN</td>\n",
       "    </tr>\n",
       "    <tr>\n",
       "      <th>Cotação atual</th>\n",
       "      <td>2.6</td>\n",
       "      <td>NaN</td>\n",
       "      <td>NaN</td>\n",
       "      <td>NaN</td>\n",
       "    </tr>\n",
       "  </tbody>\n",
       "</table>\n",
       "</div>"
      ],
      "text/plain": [
       "                         Realizado Projetado              \n",
       "                             Ano 0     Ano 1  Ano 2  Ano 3\n",
       "CAPEX                          NaN     720.0  640.0  450.0\n",
       "Ke Manual                        -       NaN    NaN    NaN\n",
       "Kd                             0.1       NaN    NaN    NaN\n",
       "G                             0.03       NaN    NaN    NaN\n",
       "Taxa de Desconto Manual      0.115       NaN    NaN    NaN\n",
       "IR                            0.34       NaN    NaN    NaN\n",
       "Taxa Livre de Risco (Rf)      0.07       NaN    NaN    NaN\n",
       "Prêmio de Risco (ERP)         0.05       NaN    NaN    NaN\n",
       "Risco País                    0.02       NaN    NaN    NaN\n",
       "Número de Ações                200       NaN    NaN    NaN\n",
       "Beta                           1.3       NaN    NaN    NaN\n",
       "Cotação atual                  2.6       NaN    NaN    NaN"
      ]
     },
     "metadata": {},
     "output_type": "display_data"
    },
    {
     "data": {
      "text/html": [
       "<h3>Capital de Giro</h3>"
      ],
      "text/plain": [
       "<IPython.core.display.HTML object>"
      ]
     },
     "metadata": {},
     "output_type": "display_data"
    },
    {
     "name": "stdout",
     "output_type": "stream",
     "text": [
      "---------------------------------------------------------------\n",
      " Memória de Cálculo do Investimento em Capital de Giro Líquido:\n",
      "---------------------------------------------------------------\n",
      "                                  Realizado Projetado                \n",
      "                                      Ano 0     Ano 1   Ano 2   Ano 3\n",
      "(+) ..Caixa Operacional               540.0     640.0   720.0   840.0\n",
      "(+) ..Contas a Receber                640.0     700.0   750.0   730.0\n",
      "(+) ..Estoque                         790.0     860.0   900.0   920.0\n",
      "(=) Capital de Giro do Ativo         1970.0    2200.0  2370.0  2490.0\n",
      "(+) ..Contas a Pagar                  480.0     530.0   460.0   470.0\n",
      "(+) ..Salários e Encargos a Pagar     230.0     250.0   260.0   270.0\n",
      "(+) ..Impostos a pagar                  0.0       0.0     0.0     0.0\n",
      "(=) Capital de Giro do Passivo        710.0     780.0   720.0   740.0\n",
      "(=) => Capital de Giro Líquido       1260.0    1420.0  1650.0  1750.0\n",
      "(=) => Investimento em CG Líquido       NaN     160.0   230.0   100.0\n"
     ]
    },
    {
     "data": {
      "text/html": [
       "<h3>Fluxo de Caixa Livre para o Equity - FCFE</h3>"
      ],
      "text/plain": [
       "<IPython.core.display.HTML object>"
      ]
     },
     "metadata": {},
     "output_type": "display_data"
    },
    {
     "name": "stdout",
     "output_type": "stream",
     "text": [
      "----------------------------\n",
      " Memória de Cálculo do FCFE:\n",
      "----------------------------\n",
      "                                 Realizado Projetado             \n",
      "                                     Ano 0     Ano 1  Ano 2 Ano 3\n",
      "Resultado Operacional                 1025      1150   1430  1650\n",
      "(-) Imposto Operacional             -348.5      -391 -486.2  -561\n",
      "(+) Depreciação                        375       420    440   450\n",
      "(-) CAPEX                              NaN      -720   -640  -450\n",
      "(-) Investimento em CG Lìquido         NaN      -160   -230  -100\n",
      "(=) Fluxo de Caixa para o Equity    1051.5       299  513.8   989\n"
     ]
    },
    {
     "data": {
      "image/png": "[encoded data removed]",
      "text/plain": [
       "<matplotlib.figure.Figure at 0x1c203696eb8>"
      ]
     },
     "metadata": {},
     "output_type": "display_data"
    },
    {
     "data": {
      "text/html": [
       "<h3>Estrutura de Capital</h3>"
      ],
      "text/plain": [
       "<IPython.core.display.HTML object>"
      ]
     },
     "metadata": {},
     "output_type": "display_data"
    },
    {
     "data": {
      "image/png": "[encoded data removed]",
      "text/plain": [
       "<matplotlib.figure.Figure at 0x1c202b76b00>"
      ]
     },
     "metadata": {},
     "output_type": "display_data"
    },
    {
     "name": "stdout",
     "output_type": "stream",
     "text": [
      "-------------------------------------\n",
      " Estrutura de Capital:\n",
      "-------------------------------------\n",
      " %E   = 78.3%\n",
      " %D   = 21.7%\n",
      "-------------------------------------\n"
     ]
    },
    {
     "data": {
      "text/html": [
       "<h3>Calcula o WACC</h3>"
      ],
      "text/plain": [
       "<IPython.core.display.HTML object>"
      ]
     },
     "metadata": {},
     "output_type": "display_data"
    },
    {
     "name": "stdout",
     "output_type": "stream",
     "text": [
      "-------------------------------------\n",
      " Cálculo do WACC:\n",
      "-------------------------------------\n",
      " Ke   = 15.5% (CAPM)\tRpais=  2.0%\n",
      " %E   = 78.3%\t\tBeta =  1.3\n",
      " Rf   =  7.0%\t\tERP  =  5.0%\n",
      " Kd   = 10.0%\t\tIR   = 34.0%\n",
      " %D   = 21.7%\t\t\u001b[1mWACC = 13.6%\u001b[0m\n",
      "-------------------------------------\n"
     ]
    },
    {
     "data": {
      "text/html": [
       "<h3>Perpetuidade</h3>"
      ],
      "text/plain": [
       "<IPython.core.display.HTML object>"
      ]
     },
     "metadata": {},
     "output_type": "display_data"
    },
    {
     "name": "stdout",
     "output_type": "stream",
     "text": [
      "-------------------------------------\n",
      " Perpetuidade:\n",
      "-------------------------------------\n",
      " FC_0    = R$  989.00\n",
      " G       =       3.0%\n",
      " i       =      11.5% (Tx Manual)\n",
      " IR      =      34.0%\n",
      "\u001b[1m FC_perp = R$ 11984.35\u001b[0m\n",
      "-------------------------------------\n"
     ]
    },
    {
     "data": {
      "image/png": "[encoded data removed]",
      "text/plain": [
       "<matplotlib.figure.Figure at 0x1c2034d5d68>"
      ]
     },
     "metadata": {},
     "output_type": "display_data"
    },
    {
     "data": {
      "text/html": [
       "<div>\n",
       "<style scoped>\n",
       "    .dataframe tbody tr th:only-of-type {\n",
       "        vertical-align: middle;\n",
       "    }\n",
       "\n",
       "    .dataframe tbody tr th {\n",
       "        vertical-align: top;\n",
       "    }\n",
       "\n",
       "    .dataframe thead tr th {\n",
       "        text-align: left;\n",
       "    }\n",
       "</style>\n",
       "<table border=\"1\" class=\"dataframe\">\n",
       "  <thead>\n",
       "    <tr>\n",
       "      <th></th>\n",
       "      <th colspan=\"3\" halign=\"left\">Projetado</th>\n",
       "    </tr>\n",
       "    <tr>\n",
       "      <th></th>\n",
       "      <th>Ano 1</th>\n",
       "      <th>Ano 2</th>\n",
       "      <th>Ano 3</th>\n",
       "    </tr>\n",
       "  </thead>\n",
       "  <tbody>\n",
       "    <tr>\n",
       "      <th>FCFE</th>\n",
       "      <td>299.000000</td>\n",
       "      <td>513.800000</td>\n",
       "      <td>989.000000</td>\n",
       "    </tr>\n",
       "    <tr>\n",
       "      <th>FCFE_Perp</th>\n",
       "      <td>0.000000</td>\n",
       "      <td>0.000000</td>\n",
       "      <td>11984.352941</td>\n",
       "    </tr>\n",
       "    <tr>\n",
       "      <th>FCFE_VP</th>\n",
       "      <td>268.161435</td>\n",
       "      <td>413.279977</td>\n",
       "      <td>713.463384</td>\n",
       "    </tr>\n",
       "    <tr>\n",
       "      <th>FCFE_Perp_VP</th>\n",
       "      <td>0.000000</td>\n",
       "      <td>0.000000</td>\n",
       "      <td>8645.497478</td>\n",
       "    </tr>\n",
       "  </tbody>\n",
       "</table>\n",
       "</div>"
      ],
      "text/plain": [
       "               Projetado                          \n",
       "                   Ano 1       Ano 2         Ano 3\n",
       "FCFE          299.000000  513.800000    989.000000\n",
       "FCFE_Perp       0.000000    0.000000  11984.352941\n",
       "FCFE_VP       268.161435  413.279977    713.463384\n",
       "FCFE_Perp_VP    0.000000    0.000000   8645.497478"
      ]
     },
     "metadata": {},
     "output_type": "display_data"
    },
    {
     "data": {
      "text/html": [
       "<h3>Comparação do FCFE na Perpetuidade vs VP</h3>"
      ],
      "text/plain": [
       "<IPython.core.display.HTML object>"
      ]
     },
     "metadata": {},
     "output_type": "display_data"
    },
    {
     "data": {
      "image/png": "[encoded data removed]",
      "text/plain": [
       "<matplotlib.figure.Figure at 0x1c204ab9f98>"
      ]
     },
     "metadata": {},
     "output_type": "display_data"
    },
    {
     "data": {
      "text/html": [
       "<h3>Composição do Valor Presente</h3>"
      ],
      "text/plain": [
       "<IPython.core.display.HTML object>"
      ]
     },
     "metadata": {},
     "output_type": "display_data"
    },
    {
     "data": {
      "image/png": "[encoded data removed]",
      "text/plain": [
       "<matplotlib.figure.Figure at 0x1c203457668>"
      ]
     },
     "metadata": {},
     "output_type": "display_data"
    },
    {
     "name": "stdout",
     "output_type": "stream",
     "text": [
      "   Projetado                         \n",
      "       Ano 1       Ano 2        Ano 3\n",
      "  268.161435  413.279977  9358.960862\n"
     ]
    },
    {
     "data": {
      "text/html": [
       "<h2>Valor Justo por Ação</h2>"
      ],
      "text/plain": [
       "<IPython.core.display.HTML object>"
      ]
     },
     "metadata": {},
     "output_type": "display_data"
    },
    {
     "name": "stdout",
     "output_type": "stream",
     "text": [
      "-----------------------------------------\n",
      " Valuation:\n",
      "-----------------------------------------\n",
      " Valor Presente do Equity = R$ 10040.40\n",
      "-----------------------------------------\n",
      " Número de Ações          = 200 ações\n",
      " Cotação atual            = R$     2.60\n",
      "=========================================\n",
      "\u001b[1m Valor Justo por Ação     = R$    50.20\u001b[0m\n",
      "-----------------------------------------\n",
      "\u001b[1m Upside projetado         =    1830.85%\u001b[0m\n",
      "\u001b[1m Upside proj por Ação     = R$    47.60\u001b[0m\n",
      "=========================================\n"
     ]
    }
   ],
   "source": [
    "v.gera_relatorio_completo(ticker='MELL3')"
   ]
  },
  {
   "cell_type": "code",
   "execution_count": 215,
   "metadata": {},
   "outputs": [
    {
     "name": "stdout",
     "output_type": "stream",
     "text": [
      "fim\n"
     ]
    }
   ],
   "source": [
    "print('fim')"
   ]
  }
 ],
 "metadata": {
  "kernelspec": {
   "display_name": "Python 3",
   "language": "python",
   "name": "python3"
  },
  "language_info": {
   "codemirror_mode": {
    "name": "ipython",
    "version": 3
   },
   "file_extension": ".py",
   "mimetype": "text/x-python",
   "name": "python",
   "nbconvert_exporter": "python",
   "pygments_lexer": "ipython3",
   "version": "3.6.4"
  }
 },
 "nbformat": 4,
 "nbformat_minor": 2
}
