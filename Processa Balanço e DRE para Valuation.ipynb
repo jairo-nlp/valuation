{
 "cells": [
  {
   "cell_type": "markdown",
   "metadata": {},
   "source": [
    "## Processa DRE e Balanço"
   ]
  },
  {
   "cell_type": "code",
   "execution_count": 39,
   "metadata": {
    "scrolled": false
   },
   "outputs": [],
   "source": [
    "import valuation as v"
   ]
  },
  {
   "cell_type": "code",
   "execution_count": 40,
   "metadata": {
    "scrolled": false
   },
   "outputs": [
    {
     "data": {
      "text/html": [
       "<h2>Dados de Entrada - GRND3</h2>"
      ],
      "text/plain": [
       "<IPython.core.display.HTML object>"
      ]
     },
     "metadata": {},
     "output_type": "display_data"
    },
    {
     "data": {
      "text/html": [
       "<h3>DRE</h3>"
      ],
      "text/plain": [
       "<IPython.core.display.HTML object>"
      ]
     },
     "metadata": {},
     "output_type": "display_data"
    },
    {
     "data": {
      "text/html": [
       "<div>\n",
       "<style scoped>\n",
       "    .dataframe tbody tr th:only-of-type {\n",
       "        vertical-align: middle;\n",
       "    }\n",
       "\n",
       "    .dataframe tbody tr th {\n",
       "        vertical-align: top;\n",
       "    }\n",
       "\n",
       "    .dataframe thead tr th {\n",
       "        text-align: left;\n",
       "    }\n",
       "</style>\n",
       "<table border=\"1\" class=\"dataframe\">\n",
       "  <thead>\n",
       "    <tr>\n",
       "      <th></th>\n",
       "      <th colspan=\"4\" halign=\"left\">Realizado</th>\n",
       "      <th colspan=\"3\" halign=\"left\">Projetado</th>\n",
       "    </tr>\n",
       "    <tr>\n",
       "      <th></th>\n",
       "      <th>2016</th>\n",
       "      <th>2017</th>\n",
       "      <th>2018</th>\n",
       "      <th>2019</th>\n",
       "      <th>2020</th>\n",
       "      <th>2021</th>\n",
       "      <th>2022</th>\n",
       "    </tr>\n",
       "  </thead>\n",
       "  <tbody>\n",
       "    <tr>\n",
       "      <th>Receita líquida</th>\n",
       "      <td>2045115000</td>\n",
       "      <td>2251972000</td>\n",
       "      <td>2333452000</td>\n",
       "      <td>2071034000</td>\n",
       "      <td>2200000000</td>\n",
       "      <td>2250000000</td>\n",
       "      <td>2400000000</td>\n",
       "    </tr>\n",
       "    <tr>\n",
       "      <th>(-) CPV</th>\n",
       "      <td>1048588000</td>\n",
       "      <td>1151216000</td>\n",
       "      <td>1227328000</td>\n",
       "      <td>1126511000</td>\n",
       "      <td>1135000000</td>\n",
       "      <td>1145000000</td>\n",
       "      <td>1180000000</td>\n",
       "    </tr>\n",
       "    <tr>\n",
       "      <th>(-) Despesas Operacionais</th>\n",
       "      <td>596933000</td>\n",
       "      <td>635166000</td>\n",
       "      <td>649161000</td>\n",
       "      <td>590995000</td>\n",
       "      <td>590000000</td>\n",
       "      <td>600000000</td>\n",
       "      <td>620000000</td>\n",
       "    </tr>\n",
       "    <tr>\n",
       "      <th>(-) Depreciação</th>\n",
       "      <td>0</td>\n",
       "      <td>0</td>\n",
       "      <td>0</td>\n",
       "      <td>0</td>\n",
       "      <td>0</td>\n",
       "      <td>0</td>\n",
       "      <td>0</td>\n",
       "    </tr>\n",
       "    <tr>\n",
       "      <th>(=) Resultado Operacional</th>\n",
       "      <td>399594000</td>\n",
       "      <td>465590000</td>\n",
       "      <td>456963000</td>\n",
       "      <td>353528000</td>\n",
       "      <td>475000000</td>\n",
       "      <td>505000000</td>\n",
       "      <td>600000000</td>\n",
       "    </tr>\n",
       "    <tr>\n",
       "      <th>(-) Despesa Financeira Líquida</th>\n",
       "      <td>-268518000</td>\n",
       "      <td>-238502000</td>\n",
       "      <td>-158878000</td>\n",
       "      <td>-178072000</td>\n",
       "      <td>-160000000</td>\n",
       "      <td>-170000000</td>\n",
       "      <td>-175000000</td>\n",
       "    </tr>\n",
       "    <tr>\n",
       "      <th>(=) Lucro Antes do IR</th>\n",
       "      <td>668112000</td>\n",
       "      <td>704092000</td>\n",
       "      <td>615841000</td>\n",
       "      <td>531600000</td>\n",
       "      <td>635000000</td>\n",
       "      <td>675000000</td>\n",
       "      <td>775000000</td>\n",
       "    </tr>\n",
       "    <tr>\n",
       "      <th>(-) IR</th>\n",
       "      <td>33620</td>\n",
       "      <td>43163</td>\n",
       "      <td>30311</td>\n",
       "      <td>36646</td>\n",
       "      <td>50800000</td>\n",
       "      <td>54000000</td>\n",
       "      <td>62000000</td>\n",
       "    </tr>\n",
       "    <tr>\n",
       "      <th>(=) Lucro Líquido</th>\n",
       "      <td>668078380</td>\n",
       "      <td>704048837</td>\n",
       "      <td>615810689</td>\n",
       "      <td>531563354</td>\n",
       "      <td>584200000</td>\n",
       "      <td>621000000</td>\n",
       "      <td>713000000</td>\n",
       "    </tr>\n",
       "  </tbody>\n",
       "</table>\n",
       "</div>"
      ],
      "text/plain": [
       "                                 Realizado                          \\\n",
       "                                      2016        2017        2018   \n",
       "Receita líquida                 2045115000  2251972000  2333452000   \n",
       "(-) CPV                         1048588000  1151216000  1227328000   \n",
       "(-) Despesas Operacionais        596933000   635166000   649161000   \n",
       "(-) Depreciação                          0           0           0   \n",
       "(=) Resultado Operacional        399594000   465590000   456963000   \n",
       "(-) Despesa Financeira Líquida  -268518000  -238502000  -158878000   \n",
       "(=) Lucro Antes do IR            668112000   704092000   615841000   \n",
       "(-) IR                               33620       43163       30311   \n",
       "(=) Lucro Líquido                668078380   704048837   615810689   \n",
       "\n",
       "                                             Projetado                          \n",
       "                                      2019        2020        2021        2022  \n",
       "Receita líquida                 2071034000  2200000000  2250000000  2400000000  \n",
       "(-) CPV                         1126511000  1135000000  1145000000  1180000000  \n",
       "(-) Despesas Operacionais        590995000   590000000   600000000   620000000  \n",
       "(-) Depreciação                          0           0           0           0  \n",
       "(=) Resultado Operacional        353528000   475000000   505000000   600000000  \n",
       "(-) Despesa Financeira Líquida  -178072000  -160000000  -170000000  -175000000  \n",
       "(=) Lucro Antes do IR            531600000   635000000   675000000   775000000  \n",
       "(-) IR                               36646    50800000    54000000    62000000  \n",
       "(=) Lucro Líquido                531563354   584200000   621000000   713000000  "
      ]
     },
     "metadata": {},
     "output_type": "display_data"
    },
    {
     "data": {
      "text/html": [
       "<h3>Balanço</h3>"
      ],
      "text/plain": [
       "<IPython.core.display.HTML object>"
      ]
     },
     "metadata": {},
     "output_type": "display_data"
    },
    {
     "data": {
      "text/html": [
       "<div>\n",
       "<style scoped>\n",
       "    .dataframe tbody tr th:only-of-type {\n",
       "        vertical-align: middle;\n",
       "    }\n",
       "\n",
       "    .dataframe tbody tr th {\n",
       "        vertical-align: top;\n",
       "    }\n",
       "\n",
       "    .dataframe thead tr th {\n",
       "        text-align: left;\n",
       "    }\n",
       "</style>\n",
       "<table border=\"1\" class=\"dataframe\">\n",
       "  <thead>\n",
       "    <tr>\n",
       "      <th></th>\n",
       "      <th colspan=\"4\" halign=\"left\">Realizado</th>\n",
       "      <th colspan=\"3\" halign=\"left\">Projetado</th>\n",
       "    </tr>\n",
       "    <tr>\n",
       "      <th></th>\n",
       "      <th>2016</th>\n",
       "      <th>2017</th>\n",
       "      <th>2018</th>\n",
       "      <th>2019</th>\n",
       "      <th>2020</th>\n",
       "      <th>2021</th>\n",
       "      <th>2022</th>\n",
       "    </tr>\n",
       "  </thead>\n",
       "  <tbody>\n",
       "    <tr>\n",
       "      <th>Caixa Operacional</th>\n",
       "      <td>20663.000</td>\n",
       "      <td>30119.000</td>\n",
       "      <td>23458.0</td>\n",
       "      <td>25462.000</td>\n",
       "      <td>27000.0</td>\n",
       "      <td>28000.0</td>\n",
       "      <td>28000.0</td>\n",
       "    </tr>\n",
       "    <tr>\n",
       "      <th>Caixa Não Operacional</th>\n",
       "      <td>1618778.992</td>\n",
       "      <td>1773919.992</td>\n",
       "      <td>1619673.0</td>\n",
       "      <td>1386032.000</td>\n",
       "      <td>1350000.0</td>\n",
       "      <td>1380000.0</td>\n",
       "      <td>1200000.0</td>\n",
       "    </tr>\n",
       "    <tr>\n",
       "      <th>Contas a Receber</th>\n",
       "      <td>881874.984</td>\n",
       "      <td>986020.992</td>\n",
       "      <td>1472339.0</td>\n",
       "      <td>1787362.024</td>\n",
       "      <td>2000000.0</td>\n",
       "      <td>2100000.0</td>\n",
       "      <td>2400000.0</td>\n",
       "    </tr>\n",
       "    <tr>\n",
       "      <th>Estoque</th>\n",
       "      <td>260646.000</td>\n",
       "      <td>279267.000</td>\n",
       "      <td>288120.0</td>\n",
       "      <td>314353.000</td>\n",
       "      <td>380000.0</td>\n",
       "      <td>360000.0</td>\n",
       "      <td>350000.0</td>\n",
       "    </tr>\n",
       "    <tr>\n",
       "      <th>Ativo Operacional Fixo Líquido</th>\n",
       "      <td>406719.024</td>\n",
       "      <td>415394.016</td>\n",
       "      <td>371100.0</td>\n",
       "      <td>465360.976</td>\n",
       "      <td>480000.0</td>\n",
       "      <td>490000.0</td>\n",
       "      <td>500000.0</td>\n",
       "    </tr>\n",
       "    <tr>\n",
       "      <th>Total do Ativo</th>\n",
       "      <td>3188682.000</td>\n",
       "      <td>3484721.000</td>\n",
       "      <td>3774690.0</td>\n",
       "      <td>3978570.000</td>\n",
       "      <td>4237000.0</td>\n",
       "      <td>4358000.0</td>\n",
       "      <td>4478000.0</td>\n",
       "    </tr>\n",
       "    <tr>\n",
       "      <th>Contas a Pagar</th>\n",
       "      <td>0.000</td>\n",
       "      <td>0.000</td>\n",
       "      <td>0.0</td>\n",
       "      <td>0.000</td>\n",
       "      <td>0.0</td>\n",
       "      <td>0.0</td>\n",
       "      <td>0.0</td>\n",
       "    </tr>\n",
       "    <tr>\n",
       "      <th>Salários e Encargos a Pagar</th>\n",
       "      <td>92866.000</td>\n",
       "      <td>96647.000</td>\n",
       "      <td>113217.0</td>\n",
       "      <td>83511.000</td>\n",
       "      <td>130000.0</td>\n",
       "      <td>120000.0</td>\n",
       "      <td>125000.0</td>\n",
       "    </tr>\n",
       "    <tr>\n",
       "      <th>Impostos a pagar</th>\n",
       "      <td>45935.000</td>\n",
       "      <td>44022.000</td>\n",
       "      <td>40782.0</td>\n",
       "      <td>35295.000</td>\n",
       "      <td>20000.0</td>\n",
       "      <td>22000.0</td>\n",
       "      <td>25000.0</td>\n",
       "    </tr>\n",
       "    <tr>\n",
       "      <th>Empréstimos e Financiamentos de CP</th>\n",
       "      <td>70734.000</td>\n",
       "      <td>89666.000</td>\n",
       "      <td>126313.0</td>\n",
       "      <td>92878.000</td>\n",
       "      <td>100000.0</td>\n",
       "      <td>115000.0</td>\n",
       "      <td>115000.0</td>\n",
       "    </tr>\n",
       "    <tr>\n",
       "      <th>Empréstimos e Financiamentos de LP</th>\n",
       "      <td>57149.000</td>\n",
       "      <td>36777.000</td>\n",
       "      <td>29336.0</td>\n",
       "      <td>84450.000</td>\n",
       "      <td>90000.0</td>\n",
       "      <td>120000.0</td>\n",
       "      <td>140000.0</td>\n",
       "    </tr>\n",
       "    <tr>\n",
       "      <th>Passivo</th>\n",
       "      <td>266684.000</td>\n",
       "      <td>267112.000</td>\n",
       "      <td>309648.0</td>\n",
       "      <td>296134.000</td>\n",
       "      <td>340000.0</td>\n",
       "      <td>377000.0</td>\n",
       "      <td>405000.0</td>\n",
       "    </tr>\n",
       "    <tr>\n",
       "      <th>Patrimônio Líquido</th>\n",
       "      <td>2921998.000</td>\n",
       "      <td>3217609.000</td>\n",
       "      <td>3465042.0</td>\n",
       "      <td>3682436.000</td>\n",
       "      <td>3897000.0</td>\n",
       "      <td>3981000.0</td>\n",
       "      <td>4073000.0</td>\n",
       "    </tr>\n",
       "    <tr>\n",
       "      <th>Total do Passivo</th>\n",
       "      <td>3188682.000</td>\n",
       "      <td>3484721.000</td>\n",
       "      <td>3774690.0</td>\n",
       "      <td>3978570.000</td>\n",
       "      <td>4237000.0</td>\n",
       "      <td>4358000.0</td>\n",
       "      <td>4478000.0</td>\n",
       "    </tr>\n",
       "  </tbody>\n",
       "</table>\n",
       "</div>"
      ],
      "text/plain": [
       "                                      Realizado                          \\\n",
       "                                           2016         2017       2018   \n",
       "Caixa Operacional                     20663.000    30119.000    23458.0   \n",
       "Caixa Não Operacional               1618778.992  1773919.992  1619673.0   \n",
       "Contas a Receber                     881874.984   986020.992  1472339.0   \n",
       "Estoque                              260646.000   279267.000   288120.0   \n",
       "Ativo Operacional Fixo Líquido       406719.024   415394.016   371100.0   \n",
       "Total do Ativo                      3188682.000  3484721.000  3774690.0   \n",
       "Contas a Pagar                            0.000        0.000        0.0   \n",
       "Salários e Encargos a Pagar           92866.000    96647.000   113217.0   \n",
       "Impostos a pagar                      45935.000    44022.000    40782.0   \n",
       "Empréstimos e Financiamentos de CP    70734.000    89666.000   126313.0   \n",
       "Empréstimos e Financiamentos de LP    57149.000    36777.000    29336.0   \n",
       "Passivo                              266684.000   267112.000   309648.0   \n",
       "Patrimônio Líquido                  2921998.000  3217609.000  3465042.0   \n",
       "Total do Passivo                    3188682.000  3484721.000  3774690.0   \n",
       "\n",
       "                                                 Projetado             \\\n",
       "                                           2019       2020       2021   \n",
       "Caixa Operacional                     25462.000    27000.0    28000.0   \n",
       "Caixa Não Operacional               1386032.000  1350000.0  1380000.0   \n",
       "Contas a Receber                    1787362.024  2000000.0  2100000.0   \n",
       "Estoque                              314353.000   380000.0   360000.0   \n",
       "Ativo Operacional Fixo Líquido       465360.976   480000.0   490000.0   \n",
       "Total do Ativo                      3978570.000  4237000.0  4358000.0   \n",
       "Contas a Pagar                            0.000        0.0        0.0   \n",
       "Salários e Encargos a Pagar           83511.000   130000.0   120000.0   \n",
       "Impostos a pagar                      35295.000    20000.0    22000.0   \n",
       "Empréstimos e Financiamentos de CP    92878.000   100000.0   115000.0   \n",
       "Empréstimos e Financiamentos de LP    84450.000    90000.0   120000.0   \n",
       "Passivo                              296134.000   340000.0   377000.0   \n",
       "Patrimônio Líquido                  3682436.000  3897000.0  3981000.0   \n",
       "Total do Passivo                    3978570.000  4237000.0  4358000.0   \n",
       "\n",
       "                                               \n",
       "                                         2022  \n",
       "Caixa Operacional                     28000.0  \n",
       "Caixa Não Operacional               1200000.0  \n",
       "Contas a Receber                    2400000.0  \n",
       "Estoque                              350000.0  \n",
       "Ativo Operacional Fixo Líquido       500000.0  \n",
       "Total do Ativo                      4478000.0  \n",
       "Contas a Pagar                            0.0  \n",
       "Salários e Encargos a Pagar          125000.0  \n",
       "Impostos a pagar                      25000.0  \n",
       "Empréstimos e Financiamentos de CP   115000.0  \n",
       "Empréstimos e Financiamentos de LP   140000.0  \n",
       "Passivo                              405000.0  \n",
       "Patrimônio Líquido                  4073000.0  \n",
       "Total do Passivo                    4478000.0  "
      ]
     },
     "metadata": {},
     "output_type": "display_data"
    },
    {
     "data": {
      "text/html": [
       "<h3>Outros Parâmetros de Entrada</h3>"
      ],
      "text/plain": [
       "<IPython.core.display.HTML object>"
      ]
     },
     "metadata": {},
     "output_type": "display_data"
    },
    {
     "data": {
      "text/html": [
       "<div>\n",
       "<style scoped>\n",
       "    .dataframe tbody tr th:only-of-type {\n",
       "        vertical-align: middle;\n",
       "    }\n",
       "\n",
       "    .dataframe tbody tr th {\n",
       "        vertical-align: top;\n",
       "    }\n",
       "\n",
       "    .dataframe thead tr th {\n",
       "        text-align: left;\n",
       "    }\n",
       "</style>\n",
       "<table border=\"1\" class=\"dataframe\">\n",
       "  <thead>\n",
       "    <tr>\n",
       "      <th></th>\n",
       "      <th colspan=\"4\" halign=\"left\">Realizado</th>\n",
       "      <th colspan=\"3\" halign=\"left\">Projetado</th>\n",
       "    </tr>\n",
       "    <tr>\n",
       "      <th></th>\n",
       "      <th>2016</th>\n",
       "      <th>2017</th>\n",
       "      <th>2018</th>\n",
       "      <th>2019</th>\n",
       "      <th>2020</th>\n",
       "      <th>2021</th>\n",
       "      <th>2022</th>\n",
       "    </tr>\n",
       "  </thead>\n",
       "  <tbody>\n",
       "    <tr>\n",
       "      <th>CAPEX</th>\n",
       "      <td>NaN</td>\n",
       "      <td>1.0</td>\n",
       "      <td>1.0</td>\n",
       "      <td>1.0</td>\n",
       "      <td>1.0</td>\n",
       "      <td>1.0</td>\n",
       "      <td>1.0</td>\n",
       "    </tr>\n",
       "    <tr>\n",
       "      <th>Ke Manual</th>\n",
       "      <td>NaN</td>\n",
       "      <td>NaN</td>\n",
       "      <td>NaN</td>\n",
       "      <td>NaN</td>\n",
       "      <td>NaN</td>\n",
       "      <td>NaN</td>\n",
       "      <td>NaN</td>\n",
       "    </tr>\n",
       "    <tr>\n",
       "      <th>Kd</th>\n",
       "      <td>8.000000e-02</td>\n",
       "      <td>NaN</td>\n",
       "      <td>NaN</td>\n",
       "      <td>NaN</td>\n",
       "      <td>NaN</td>\n",
       "      <td>NaN</td>\n",
       "      <td>NaN</td>\n",
       "    </tr>\n",
       "    <tr>\n",
       "      <th>G</th>\n",
       "      <td>2.200000e-02</td>\n",
       "      <td>NaN</td>\n",
       "      <td>NaN</td>\n",
       "      <td>NaN</td>\n",
       "      <td>NaN</td>\n",
       "      <td>NaN</td>\n",
       "      <td>NaN</td>\n",
       "    </tr>\n",
       "    <tr>\n",
       "      <th>Taxa de Desconto Manual</th>\n",
       "      <td>1.000000e-01</td>\n",
       "      <td>NaN</td>\n",
       "      <td>NaN</td>\n",
       "      <td>NaN</td>\n",
       "      <td>NaN</td>\n",
       "      <td>NaN</td>\n",
       "      <td>NaN</td>\n",
       "    </tr>\n",
       "    <tr>\n",
       "      <th>IR</th>\n",
       "      <td>8.000000e-02</td>\n",
       "      <td>NaN</td>\n",
       "      <td>NaN</td>\n",
       "      <td>NaN</td>\n",
       "      <td>NaN</td>\n",
       "      <td>NaN</td>\n",
       "      <td>NaN</td>\n",
       "    </tr>\n",
       "    <tr>\n",
       "      <th>Taxa Livre de Risco (Rf)</th>\n",
       "      <td>8.000000e-03</td>\n",
       "      <td>NaN</td>\n",
       "      <td>NaN</td>\n",
       "      <td>NaN</td>\n",
       "      <td>NaN</td>\n",
       "      <td>NaN</td>\n",
       "      <td>NaN</td>\n",
       "    </tr>\n",
       "    <tr>\n",
       "      <th>Prêmio de Risco (ERP)</th>\n",
       "      <td>3.500000e-02</td>\n",
       "      <td>NaN</td>\n",
       "      <td>NaN</td>\n",
       "      <td>NaN</td>\n",
       "      <td>NaN</td>\n",
       "      <td>NaN</td>\n",
       "      <td>NaN</td>\n",
       "    </tr>\n",
       "    <tr>\n",
       "      <th>Risco País</th>\n",
       "      <td>2.000000e-02</td>\n",
       "      <td>NaN</td>\n",
       "      <td>NaN</td>\n",
       "      <td>NaN</td>\n",
       "      <td>NaN</td>\n",
       "      <td>NaN</td>\n",
       "      <td>NaN</td>\n",
       "    </tr>\n",
       "    <tr>\n",
       "      <th>Número de Ações</th>\n",
       "      <td>9.021600e+08</td>\n",
       "      <td>NaN</td>\n",
       "      <td>NaN</td>\n",
       "      <td>NaN</td>\n",
       "      <td>NaN</td>\n",
       "      <td>NaN</td>\n",
       "      <td>NaN</td>\n",
       "    </tr>\n",
       "    <tr>\n",
       "      <th>Beta</th>\n",
       "      <td>6.400000e-01</td>\n",
       "      <td>NaN</td>\n",
       "      <td>NaN</td>\n",
       "      <td>NaN</td>\n",
       "      <td>NaN</td>\n",
       "      <td>NaN</td>\n",
       "      <td>NaN</td>\n",
       "    </tr>\n",
       "    <tr>\n",
       "      <th>Cotação atual</th>\n",
       "      <td>7.580000e+00</td>\n",
       "      <td>NaN</td>\n",
       "      <td>NaN</td>\n",
       "      <td>NaN</td>\n",
       "      <td>NaN</td>\n",
       "      <td>NaN</td>\n",
       "      <td>NaN</td>\n",
       "    </tr>\n",
       "  </tbody>\n",
       "</table>\n",
       "</div>"
      ],
      "text/plain": [
       "                             Realizado                Projetado          \n",
       "                                  2016 2017 2018 2019      2020 2021 2022\n",
       "CAPEX                              NaN  1.0  1.0  1.0       1.0  1.0  1.0\n",
       "Ke Manual                          NaN  NaN  NaN  NaN       NaN  NaN  NaN\n",
       "Kd                        8.000000e-02  NaN  NaN  NaN       NaN  NaN  NaN\n",
       "G                         2.200000e-02  NaN  NaN  NaN       NaN  NaN  NaN\n",
       "Taxa de Desconto Manual   1.000000e-01  NaN  NaN  NaN       NaN  NaN  NaN\n",
       "IR                        8.000000e-02  NaN  NaN  NaN       NaN  NaN  NaN\n",
       "Taxa Livre de Risco (Rf)  8.000000e-03  NaN  NaN  NaN       NaN  NaN  NaN\n",
       "Prêmio de Risco (ERP)     3.500000e-02  NaN  NaN  NaN       NaN  NaN  NaN\n",
       "Risco País                2.000000e-02  NaN  NaN  NaN       NaN  NaN  NaN\n",
       "Número de Ações           9.021600e+08  NaN  NaN  NaN       NaN  NaN  NaN\n",
       "Beta                      6.400000e-01  NaN  NaN  NaN       NaN  NaN  NaN\n",
       "Cotação atual             7.580000e+00  NaN  NaN  NaN       NaN  NaN  NaN"
      ]
     },
     "metadata": {},
     "output_type": "display_data"
    },
    {
     "data": {
      "text/html": [
       "<h3>Capital de Giro</h3>"
      ],
      "text/plain": [
       "<IPython.core.display.HTML object>"
      ]
     },
     "metadata": {},
     "output_type": "display_data"
    },
    {
     "name": "stdout",
     "output_type": "stream",
     "text": [
      "---------------------------------------------------------------\n",
      " Memória de Cálculo do Investimento em Capital de Giro Líquido:\n",
      "---------------------------------------------------------------\n",
      "                                     Realizado                            \\\n",
      "                                          2016         2017         2018   \n",
      "(+) ..Caixa Operacional              20663.000    30119.000    23458.000   \n",
      "(+) ..Contas a Receber              881874.984   986020.992  1472339.000   \n",
      "(+) ..Estoque                       260646.000   279267.000   288120.000   \n",
      "(=) Capital de Giro do Ativo       1163183.984  1295406.992  1783917.000   \n",
      "(+) ..Contas a Pagar                     0.000        0.000        0.000   \n",
      "(+) ..Salários e Encargos a Pagar    92866.000    96647.000   113217.000   \n",
      "(+) ..Impostos a pagar               45935.000    44022.000    40782.000   \n",
      "(=) Capital de Giro do Passivo      138801.000   140669.000   153999.000   \n",
      "(=) => Capital de Giro Líquido     1024382.984  1154737.992  1629918.000   \n",
      "(=) => Investimento em CG Líquido          NaN   130355.008   475180.008   \n",
      "\n",
      "                                                  Projetado             \\\n",
      "                                          2019         2020       2021   \n",
      "(+) ..Caixa Operacional              25462.000    27000.000    28000.0   \n",
      "(+) ..Contas a Receber             1787362.024  2000000.000  2100000.0   \n",
      "(+) ..Estoque                       314353.000   380000.000   360000.0   \n",
      "(=) Capital de Giro do Ativo       2127177.024  2407000.000  2488000.0   \n",
      "(+) ..Contas a Pagar                     0.000        0.000        0.0   \n",
      "(+) ..Salários e Encargos a Pagar    83511.000   130000.000   120000.0   \n",
      "(+) ..Impostos a pagar               35295.000    20000.000    22000.0   \n",
      "(=) Capital de Giro do Passivo      118806.000   150000.000   142000.0   \n",
      "(=) => Capital de Giro Líquido     2008371.024  2257000.000  2346000.0   \n",
      "(=) => Investimento em CG Líquido   378453.024   248628.976    89000.0   \n",
      "\n",
      "                                              \n",
      "                                        2022  \n",
      "(+) ..Caixa Operacional              28000.0  \n",
      "(+) ..Contas a Receber             2400000.0  \n",
      "(+) ..Estoque                       350000.0  \n",
      "(=) Capital de Giro do Ativo       2778000.0  \n",
      "(+) ..Contas a Pagar                     0.0  \n",
      "(+) ..Salários e Encargos a Pagar   125000.0  \n",
      "(+) ..Impostos a pagar               25000.0  \n",
      "(=) Capital de Giro do Passivo      150000.0  \n",
      "(=) => Capital de Giro Líquido     2628000.0  \n",
      "(=) => Investimento em CG Líquido   282000.0  \n"
     ]
    },
    {
     "data": {
      "text/html": [
       "<h3>Fluxo de Caixa Livre para o Equity - FCFE</h3>"
      ],
      "text/plain": [
       "<IPython.core.display.HTML object>"
      ]
     },
     "metadata": {},
     "output_type": "display_data"
    },
    {
     "name": "stdout",
     "output_type": "stream",
     "text": [
      "----------------------------\n",
      " Memória de Cálculo do FCFE:\n",
      "----------------------------\n",
      "                                    Realizado                              \\\n",
      "                                         2016          2017          2018   \n",
      "Resultado Operacional             399594000.0  4.655900e+08  4.569630e+08   \n",
      "(-) Imposto Operacional           -31967520.0 -3.724720e+07 -3.655704e+07   \n",
      "(+) Depreciação                           0.0  0.000000e+00  0.000000e+00   \n",
      "(-) CAPEX                                 NaN -1.000000e+00 -1.000000e+00   \n",
      "(-) Investimento em CG Lìquido            NaN -1.303550e+05 -4.751800e+05   \n",
      "(=) Fluxo de Caixa para o Equity  367626480.0  4.282124e+08  4.199308e+08   \n",
      "\n",
      "                                                   Projetado               \\\n",
      "                                          2019          2020         2021   \n",
      "Resultado Operacional             3.535280e+08  4.750000e+08  505000000.0   \n",
      "(-) Imposto Operacional          -2.828224e+07 -3.800000e+07  -40400000.0   \n",
      "(+) Depreciação                   0.000000e+00  0.000000e+00          0.0   \n",
      "(-) CAPEX                        -1.000000e+00 -1.000000e+00         -1.0   \n",
      "(-) Investimento em CG Lìquido   -3.784530e+05 -2.486290e+05     -89000.0   \n",
      "(=) Fluxo de Caixa para o Equity  3.248673e+08  4.367514e+08  464510999.0   \n",
      "\n",
      "                                               \n",
      "                                         2022  \n",
      "Resultado Operacional             600000000.0  \n",
      "(-) Imposto Operacional           -48000000.0  \n",
      "(+) Depreciação                           0.0  \n",
      "(-) CAPEX                                -1.0  \n",
      "(-) Investimento em CG Lìquido      -282000.0  \n",
      "(=) Fluxo de Caixa para o Equity  551717999.0  \n"
     ]
    },
    {
     "data": {
      "image/png": "[encoded data removed]",
      "text/plain": [
       "<matplotlib.figure.Figure at 0x1d9647b5710>"
      ]
     },
     "metadata": {},
     "output_type": "display_data"
    },
    {
     "data": {
      "text/html": [
       "<h3>Estrutura de Capital</h3>"
      ],
      "text/plain": [
       "<IPython.core.display.HTML object>"
      ]
     },
     "metadata": {},
     "output_type": "display_data"
    },
    {
     "data": {
      "image/png": "[encoded data removed]",
      "text/plain": [
       "<matplotlib.figure.Figure at 0x1d9646a2898>"
      ]
     },
     "metadata": {},
     "output_type": "display_data"
    },
    {
     "name": "stdout",
     "output_type": "stream",
     "text": [
      "-------------------------------------\n",
      " Estrutura de Capital:\n",
      "-------------------------------------\n",
      " %E   = 92.6%\n",
      " %D   =  7.4%\n",
      "-------------------------------------\n"
     ]
    },
    {
     "data": {
      "text/html": [
       "<h3>Calcula o WACC</h3>"
      ],
      "text/plain": [
       "<IPython.core.display.HTML object>"
      ]
     },
     "metadata": {},
     "output_type": "display_data"
    },
    {
     "name": "stdout",
     "output_type": "stream",
     "text": [
      "-------------------------------------\n",
      " Cálculo do WACC:\n",
      "-------------------------------------\n",
      " Ke   =  5.0% (CAPM)\tRpais=  2.0%\n",
      " %E   = 92.6%\t\tBeta =  0.6\n",
      " Rf   =  0.8%\t\tERP  =  3.5%\n",
      " Kd   =  8.0%\t\tIR   =  8.0%\n",
      " %D   =  7.4%\t\t\u001b[1mWACC =  5.2%\u001b[0m\n",
      "-------------------------------------\n"
     ]
    },
    {
     "data": {
      "text/html": [
       "<h3>Perpetuidade</h3>"
      ],
      "text/plain": [
       "<IPython.core.display.HTML object>"
      ]
     },
     "metadata": {},
     "output_type": "display_data"
    },
    {
     "name": "stdout",
     "output_type": "stream",
     "text": [
      "-------------------------------------\n",
      " Perpetuidade:\n",
      "-------------------------------------\n",
      " FC_0    = R$ 551717999.00\n",
      " G       =       2.2%\n",
      " i       =      10.0% (Tx Manual)\n",
      " IR      =       8.0%\n",
      "\u001b[1m FC_perp = R$ 7228920448.44\u001b[0m\n",
      "-------------------------------------\n"
     ]
    },
    {
     "data": {
      "image/png": "[encoded data removed]",
      "text/plain": [
       "<matplotlib.figure.Figure at 0x1d9646a3160>"
      ]
     },
     "metadata": {},
     "output_type": "display_data"
    },
    {
     "data": {
      "text/html": [
       "<div>\n",
       "<style scoped>\n",
       "    .dataframe tbody tr th:only-of-type {\n",
       "        vertical-align: middle;\n",
       "    }\n",
       "\n",
       "    .dataframe tbody tr th {\n",
       "        vertical-align: top;\n",
       "    }\n",
       "\n",
       "    .dataframe thead tr th {\n",
       "        text-align: left;\n",
       "    }\n",
       "</style>\n",
       "<table border=\"1\" class=\"dataframe\">\n",
       "  <thead>\n",
       "    <tr>\n",
       "      <th></th>\n",
       "      <th colspan=\"3\" halign=\"left\">Projetado</th>\n",
       "    </tr>\n",
       "    <tr>\n",
       "      <th></th>\n",
       "      <th>2020</th>\n",
       "      <th>2021</th>\n",
       "      <th>2022</th>\n",
       "    </tr>\n",
       "  </thead>\n",
       "  <tbody>\n",
       "    <tr>\n",
       "      <th>FCFE</th>\n",
       "      <td>4.367514e+08</td>\n",
       "      <td>4.645110e+08</td>\n",
       "      <td>5.517180e+08</td>\n",
       "    </tr>\n",
       "    <tr>\n",
       "      <th>FCFE_Perp</th>\n",
       "      <td>0.000000e+00</td>\n",
       "      <td>0.000000e+00</td>\n",
       "      <td>7.228920e+09</td>\n",
       "    </tr>\n",
       "    <tr>\n",
       "      <th>FCFE_VP</th>\n",
       "      <td>3.970467e+08</td>\n",
       "      <td>3.838934e+08</td>\n",
       "      <td>4.145139e+08</td>\n",
       "    </tr>\n",
       "    <tr>\n",
       "      <th>FCFE_Perp_VP</th>\n",
       "      <td>0.000000e+00</td>\n",
       "      <td>0.000000e+00</td>\n",
       "      <td>5.431195e+09</td>\n",
       "    </tr>\n",
       "  </tbody>\n",
       "</table>\n",
       "</div>"
      ],
      "text/plain": [
       "                 Projetado                            \n",
       "                      2020          2021          2022\n",
       "FCFE          4.367514e+08  4.645110e+08  5.517180e+08\n",
       "FCFE_Perp     0.000000e+00  0.000000e+00  7.228920e+09\n",
       "FCFE_VP       3.970467e+08  3.838934e+08  4.145139e+08\n",
       "FCFE_Perp_VP  0.000000e+00  0.000000e+00  5.431195e+09"
      ]
     },
     "metadata": {},
     "output_type": "display_data"
    },
    {
     "data": {
      "text/html": [
       "<h3>Comparação do FCFE na Perpetuidade vs VP</h3>"
      ],
      "text/plain": [
       "<IPython.core.display.HTML object>"
      ]
     },
     "metadata": {},
     "output_type": "display_data"
    },
    {
     "data": {
      "image/png": "[encoded data removed]",
      "text/plain": [
       "<matplotlib.figure.Figure at 0x1d96456b8d0>"
      ]
     },
     "metadata": {},
     "output_type": "display_data"
    },
    {
     "data": {
      "text/html": [
       "<h3>Composição do Valor Presente</h3>"
      ],
      "text/plain": [
       "<IPython.core.display.HTML object>"
      ]
     },
     "metadata": {},
     "output_type": "display_data"
    },
    {
     "data": {
      "image/png": "[encoded data removed]",
      "text/plain": [
       "<matplotlib.figure.Figure at 0x1d964b9d780>"
      ]
     },
     "metadata": {},
     "output_type": "display_data"
    },
    {
     "name": "stdout",
     "output_type": "stream",
     "text": [
      " Realizado                        Projetado                            \n",
      "      2017 2018          2019          2020          2021          2022\n",
      "       0.0  0.0  3.248673e+08  3.970467e+08  3.838934e+08  5.845709e+09\n"
     ]
    },
    {
     "data": {
      "text/html": [
       "<h2>Valor Justo por Ação</h2>"
      ],
      "text/plain": [
       "<IPython.core.display.HTML object>"
      ]
     },
     "metadata": {},
     "output_type": "display_data"
    },
    {
     "name": "stdout",
     "output_type": "stream",
     "text": [
      "-----------------------------------------\n",
      " Valuation:\n",
      "-----------------------------------------\n",
      " Valor Presente do Equity = R$ 6951516219.62\n",
      "-----------------------------------------\n",
      " Número de Ações          = 902160000 ações\n",
      " Cotação atual            = R$     7.58\n",
      "=========================================\n",
      "\u001b[1m Valor Justo por Ação     = R$     7.71\u001b[0m\n",
      "-----------------------------------------\n",
      "\u001b[1m Upside projetado         =       1.65%\u001b[0m\n",
      "\u001b[1m Upside proj por Ação     = R$     0.13\u001b[0m\n",
      "=========================================\n"
     ]
    }
   ],
   "source": [
    "v.gera_relatorio_completo(ticker='GRND3')"
   ]
  },
  {
   "cell_type": "code",
   "execution_count": null,
   "metadata": {},
   "outputs": [],
   "source": []
  }
 ],
 "metadata": {
  "kernelspec": {
   "display_name": "Python 3",
   "language": "python",
   "name": "python3"
  },
  "language_info": {
   "codemirror_mode": {
    "name": "ipython",
    "version": 3
   },
   "file_extension": ".py",
   "mimetype": "text/x-python",
   "name": "python",
   "nbconvert_exporter": "python",
   "pygments_lexer": "ipython3",
   "version": "3.6.4"
  }
 },
 "nbformat": 4,
 "nbformat_minor": 2
}
