{
 "cells": [
  {
   "cell_type": "markdown",
   "metadata": {},
   "source": [
    "## Processa DRE e Balanço"
   ]
  },
  {
   "cell_type": "code",
   "execution_count": 26,
   "metadata": {
    "scrolled": false
   },
   "outputs": [],
   "source": [
    "import importlib,valuation\n",
    "importlib.reload(valuation)\n",
    "import valuation as v"
   ]
  },
  {
   "cell_type": "code",
   "execution_count": 27,
   "metadata": {
    "scrolled": false
   },
   "outputs": [
    {
     "ename": "NameError",
     "evalue": "name 'np' is not defined",
     "output_type": "error",
     "traceback": [
      "\u001b[1;31m---------------------------------------------------------------------------\u001b[0m",
      "\u001b[1;31mNameError\u001b[0m                                 Traceback (most recent call last)",
      "\u001b[1;32m<ipython-input-27-c464fcb4af8d>\u001b[0m in \u001b[0;36m<module>\u001b[1;34m()\u001b[0m\n\u001b[1;32m----> 1\u001b[1;33m \u001b[0mv\u001b[0m\u001b[1;33m.\u001b[0m\u001b[0mgera_relatorio_completo\u001b[0m\u001b[1;33m(\u001b[0m\u001b[0mticker\u001b[0m\u001b[1;33m=\u001b[0m\u001b[1;34m'MELL3'\u001b[0m\u001b[1;33m)\u001b[0m\u001b[1;33m\u001b[0m\u001b[0m\n\u001b[0m",
      "\u001b[1;32m~\\Documents\\GitHub\\valuation\\valuation\\valuation.py\u001b[0m in \u001b[0;36mgera_relatorio_completo\u001b[1;34m(ticker)\u001b[0m\n\u001b[0;32m    477\u001b[0m \u001b[1;33m\u001b[0m\u001b[0m\n\u001b[0;32m    478\u001b[0m     \u001b[1;31m# Checagem dos dados da DRE e Balanço\u001b[0m\u001b[1;33m\u001b[0m\u001b[1;33m\u001b[0m\u001b[0m\n\u001b[1;32m--> 479\u001b[1;33m     \u001b[0mcheca_valores_bal\u001b[0m\u001b[1;33m(\u001b[0m\u001b[0mdf_bal\u001b[0m\u001b[1;33m)\u001b[0m\u001b[1;33m\u001b[0m\u001b[0m\n\u001b[0m\u001b[0;32m    480\u001b[0m     \u001b[0mcheca_valores_dre\u001b[0m\u001b[1;33m(\u001b[0m\u001b[0mdf_dre\u001b[0m\u001b[1;33m)\u001b[0m\u001b[1;33m\u001b[0m\u001b[0m\n\u001b[0;32m    481\u001b[0m \u001b[1;33m\u001b[0m\u001b[0m\n",
      "\u001b[1;32m~\\Documents\\GitHub\\valuation\\valuation\\valuation.py\u001b[0m in \u001b[0;36mcheca_valores_bal\u001b[1;34m(df_bal)\u001b[0m\n\u001b[0;32m     29\u001b[0m                                - bal.loc['Passivo Calculado'])\n\u001b[0;32m     30\u001b[0m \u001b[1;33m\u001b[0m\u001b[0m\n\u001b[1;32m---> 31\u001b[1;33m     ativo_ok = np.allclose(bal.loc['Total do Ativo Calculado'],\n\u001b[0m\u001b[0;32m     32\u001b[0m                            df_bal.loc['Total do Ativo'])\n\u001b[0;32m     33\u001b[0m     passivo_ok = np.allclose(bal.loc['Passivo Calculado'],\n",
      "\u001b[1;31mNameError\u001b[0m: name 'np' is not defined"
     ]
    }
   ],
   "source": [
    "v.gera_relatorio_completo(ticker='MELL3')"
   ]
  },
  {
   "cell_type": "code",
   "execution_count": 28,
   "metadata": {},
   "outputs": [
    {
     "data": {
      "text/plain": [
       "['BOLD',\n",
       " 'END',\n",
       " 'HTML',\n",
       " 'UNDERLINE',\n",
       " '__builtins__',\n",
       " '__cached__',\n",
       " '__doc__',\n",
       " '__file__',\n",
       " '__loader__',\n",
       " '__name__',\n",
       " '__package__',\n",
       " '__path__',\n",
       " '__spec__',\n",
       " 'adiciona_perp_ao_fcfe',\n",
       " 'carrega_dfs',\n",
       " 'carrega_parametros',\n",
       " 'checa_valores_bal',\n",
       " 'checa_valores_dre',\n",
       " 'display',\n",
       " 'gera_pares_ano_fc_ano',\n",
       " 'gera_plot_composicao_valor_presente',\n",
       " 'gera_plot_estrutura_capital',\n",
       " 'gera_plot_fcfe',\n",
       " 'gera_plot_fcfe_com_perp',\n",
       " 'gera_plot_fcfe_com_perp_vp',\n",
       " 'gera_relatorio_completo',\n",
       " 'gera_report_cg',\n",
       " 'gera_report_dados_entrada',\n",
       " 'gera_report_estr_capital',\n",
       " 'gera_report_fcfe',\n",
       " 'gera_report_perpetuidade',\n",
       " 'gera_report_valor_justo',\n",
       " 'gera_report_vp',\n",
       " 'gera_report_wacc',\n",
       " 'gera_valor_presente_fcfe',\n",
       " 'imprime_header',\n",
       " 'imprime_rel_estrutura_capital',\n",
       " 'imprime_rel_mem_calc_fcfe',\n",
       " 'imprime_rel_mem_calc_icgl',\n",
       " 'imprime_rel_parametros_wacc',\n",
       " 'imprime_rel_perpetuidade',\n",
       " 'imprime_rel_preco_justo',\n",
       " 'np',\n",
       " 'obtem_custo_equity_ke',\n",
       " 'obtem_estrutura_de_capital',\n",
       " 'obtem_fcfe_ult_ano_projetado',\n",
       " 'obtem_fluxo_caixa_equity',\n",
       " 'obtem_info_cg',\n",
       " 'obtem_parametros',\n",
       " 'obtem_perpetuidade',\n",
       " 'obtem_preco_justo',\n",
       " 'obtem_upside',\n",
       " 'obtem_wacc',\n",
       " 'pd',\n",
       " 'plt',\n",
       " 'sns',\n",
       " 'v',\n",
       " 'valuation']"
      ]
     },
     "execution_count": 28,
     "metadata": {},
     "output_type": "execute_result"
    }
   ],
   "source": [
    "dir(v)"
   ]
  },
  {
   "cell_type": "code",
   "execution_count": null,
   "metadata": {},
   "outputs": [],
   "source": []
  }
 ],
 "metadata": {
  "kernelspec": {
   "display_name": "Python 3",
   "language": "python",
   "name": "python3"
  },
  "language_info": {
   "codemirror_mode": {
    "name": "ipython",
    "version": 3
   },
   "file_extension": ".py",
   "mimetype": "text/x-python",
   "name": "python",
   "nbconvert_exporter": "python",
   "pygments_lexer": "ipython3",
   "version": "3.6.4"
  }
 },
 "nbformat": 4,
 "nbformat_minor": 2
}
